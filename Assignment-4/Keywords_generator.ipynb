{
 "cells": [
  {
   "cell_type": "code",
   "execution_count": 1,
   "metadata": {
    "collapsed": true
   },
   "outputs": [],
   "source": [
    "import pandas as pd\n",
    "import re"
   ]
  },
  {
   "cell_type": "code",
   "execution_count": 2,
   "metadata": {
    "collapsed": true
   },
   "outputs": [],
   "source": [
    "# the document is '$' separated\n",
    "df = pd.read_csv('Automatic email content store.csv', sep='$')"
   ]
  },
  {
   "cell_type": "code",
   "execution_count": 3,
   "metadata": {},
   "outputs": [
    {
     "data": {
      "text/html": [
       "<div>\n",
       "<style>\n",
       "    .dataframe thead tr:only-child th {\n",
       "        text-align: right;\n",
       "    }\n",
       "\n",
       "    .dataframe thead th {\n",
       "        text-align: left;\n",
       "    }\n",
       "\n",
       "    .dataframe tbody tr th {\n",
       "        vertical-align: top;\n",
       "    }\n",
       "</style>\n",
       "<table border=\"1\" class=\"dataframe\">\n",
       "  <thead>\n",
       "    <tr style=\"text-align: right;\">\n",
       "      <th></th>\n",
       "      <th>Date</th>\n",
       "      <th>to</th>\n",
       "      <th>raw</th>\n",
       "    </tr>\n",
       "  </thead>\n",
       "  <tbody>\n",
       "    <tr>\n",
       "      <th>0</th>\n",
       "      <td>30/09/17</td>\n",
       "      <td>shubhi.prakash03@gmail.com</td>\n",
       "      <td>will be doing it by tomorrow</td>\n",
       "    </tr>\n",
       "    <tr>\n",
       "      <th>1</th>\n",
       "      <td>30/09/17</td>\n",
       "      <td>exampreparationonline@gmail.com</td>\n",
       "      <td>will be doing it by tomorrow</td>\n",
       "    </tr>\n",
       "    <tr>\n",
       "      <th>2</th>\n",
       "      <td>30/09/17</td>\n",
       "      <td>exampreparationonline@gmail.com</td>\n",
       "      <td>will be doing it by tomorrow</td>\n",
       "    </tr>\n",
       "    <tr>\n",
       "      <th>3</th>\n",
       "      <td>30/09/17</td>\n",
       "      <td>shubhi.prakash03@gmail.com</td>\n",
       "      <td>will be doing it by tomorrow</td>\n",
       "    </tr>\n",
       "    <tr>\n",
       "      <th>4</th>\n",
       "      <td>30/09/17</td>\n",
       "      <td>shubhi.prakash03@gmail.com</td>\n",
       "      <td>will be doing it by tomorrow</td>\n",
       "    </tr>\n",
       "  </tbody>\n",
       "</table>\n",
       "</div>"
      ],
      "text/plain": [
       "       Date                              to                            raw\n",
       "0  30/09/17       shubhi.prakash03@gmail.com  will be doing it by tomorrow\n",
       "1  30/09/17  exampreparationonline@gmail.com  will be doing it by tomorrow\n",
       "2  30/09/17  exampreparationonline@gmail.com  will be doing it by tomorrow\n",
       "3  30/09/17       shubhi.prakash03@gmail.com  will be doing it by tomorrow\n",
       "4  30/09/17       shubhi.prakash03@gmail.com  will be doing it by tomorrow"
      ]
     },
     "execution_count": 3,
     "metadata": {},
     "output_type": "execute_result"
    }
   ],
   "source": [
    "df.head()"
   ]
  },
  {
   "cell_type": "code",
   "execution_count": 4,
   "metadata": {},
   "outputs": [
    {
     "data": {
      "text/plain": [
       "Index(['Date', 'to ', 'raw'], dtype='object')"
      ]
     },
     "execution_count": 4,
     "metadata": {},
     "output_type": "execute_result"
    }
   ],
   "source": [
    "# to get the column names\n",
    "df.columns"
   ]
  },
  {
   "cell_type": "markdown",
   "metadata": {},
   "source": [
    "### To get all the unique email"
   ]
  },
  {
   "cell_type": "code",
   "execution_count": 5,
   "metadata": {},
   "outputs": [],
   "source": [
    "email = df['to '].unique()"
   ]
  },
  {
   "cell_type": "code",
   "execution_count": 6,
   "metadata": {},
   "outputs": [
    {
     "data": {
      "text/plain": [
       "array(['shubhi.prakash03@gmail.com', 'exampreparationonline@gmail.com',\n",
       "       'nidhisaini05@gmail.com', 'chowdhuryshaif@rediffmail.com',\n",
       "       'abhishekguragol@gmail.com', 'sonuyannam@gmail.com',\n",
       "       'sachinsn231@gmail.com', 'limithakeerthi@gmail.com',\n",
       "       'ramthakkar07@gmail.com', 'pavithramurugan22@gmail.com',\n",
       "       'saha.swapankumar1@gmail.com'], dtype=object)"
      ]
     },
     "execution_count": 6,
     "metadata": {},
     "output_type": "execute_result"
    }
   ],
   "source": [
    "email"
   ]
  },
  {
   "cell_type": "markdown",
   "metadata": {},
   "source": [
    "### To remove the rows having timestamp in different format other than 'dd/mm/yy'"
   ]
  },
  {
   "cell_type": "code",
   "execution_count": 7,
   "metadata": {},
   "outputs": [],
   "source": [
    "for i in range(len(df.index)):\n",
    "    if not (bool(re.compile(r'(\\d{2}\\/\\d{2}\\/\\d{2})').match(df['Date'][i]))):\n",
    "        df.drop(df.index[i], inplace=True)\n",
    "\n",
    "df.reset_index(drop=True, inplace=True)"
   ]
  },
  {
   "cell_type": "code",
   "execution_count": 8,
   "metadata": {},
   "outputs": [
    {
     "data": {
      "text/html": [
       "<div>\n",
       "<style>\n",
       "    .dataframe thead tr:only-child th {\n",
       "        text-align: right;\n",
       "    }\n",
       "\n",
       "    .dataframe thead th {\n",
       "        text-align: left;\n",
       "    }\n",
       "\n",
       "    .dataframe tbody tr th {\n",
       "        vertical-align: top;\n",
       "    }\n",
       "</style>\n",
       "<table border=\"1\" class=\"dataframe\">\n",
       "  <thead>\n",
       "    <tr style=\"text-align: right;\">\n",
       "      <th></th>\n",
       "      <th>Date</th>\n",
       "      <th>to</th>\n",
       "      <th>raw</th>\n",
       "    </tr>\n",
       "  </thead>\n",
       "  <tbody>\n",
       "    <tr>\n",
       "      <th>0</th>\n",
       "      <td>30/09/17</td>\n",
       "      <td>shubhi.prakash03@gmail.com</td>\n",
       "      <td>will be doing it by tomorrow</td>\n",
       "    </tr>\n",
       "    <tr>\n",
       "      <th>1</th>\n",
       "      <td>30/09/17</td>\n",
       "      <td>exampreparationonline@gmail.com</td>\n",
       "      <td>will be doing it by tomorrow</td>\n",
       "    </tr>\n",
       "    <tr>\n",
       "      <th>2</th>\n",
       "      <td>30/09/17</td>\n",
       "      <td>exampreparationonline@gmail.com</td>\n",
       "      <td>will be doing it by tomorrow</td>\n",
       "    </tr>\n",
       "    <tr>\n",
       "      <th>3</th>\n",
       "      <td>30/09/17</td>\n",
       "      <td>shubhi.prakash03@gmail.com</td>\n",
       "      <td>will be doing it by tomorrow</td>\n",
       "    </tr>\n",
       "    <tr>\n",
       "      <th>4</th>\n",
       "      <td>30/09/17</td>\n",
       "      <td>shubhi.prakash03@gmail.com</td>\n",
       "      <td>will be doing it by tomorrow</td>\n",
       "    </tr>\n",
       "  </tbody>\n",
       "</table>\n",
       "</div>"
      ],
      "text/plain": [
       "       Date                              to                            raw\n",
       "0  30/09/17       shubhi.prakash03@gmail.com  will be doing it by tomorrow\n",
       "1  30/09/17  exampreparationonline@gmail.com  will be doing it by tomorrow\n",
       "2  30/09/17  exampreparationonline@gmail.com  will be doing it by tomorrow\n",
       "3  30/09/17       shubhi.prakash03@gmail.com  will be doing it by tomorrow\n",
       "4  30/09/17       shubhi.prakash03@gmail.com  will be doing it by tomorrow"
      ]
     },
     "execution_count": 8,
     "metadata": {},
     "output_type": "execute_result"
    }
   ],
   "source": [
    "# to check the final df after dropping rows\n",
    "df.head()"
   ]
  },
  {
   "cell_type": "markdown",
   "metadata": {},
   "source": [
    "### To find common words"
   ]
  },
  {
   "cell_type": "code",
   "execution_count": 9,
   "metadata": {},
   "outputs": [],
   "source": [
    "# to store the list if matching words from dummy_words and raw column\n",
    "remark = []"
   ]
  },
  {
   "cell_type": "code",
   "execution_count": 10,
   "metadata": {},
   "outputs": [],
   "source": [
    "# user defined set of dummy words\n",
    "dummy_words = set(['deadline', 'tell', 'me'])"
   ]
  },
  {
   "cell_type": "code",
   "execution_count": 11,
   "metadata": {},
   "outputs": [],
   "source": [
    "# clean function to remove '?' from words in a list and retrurns a final list of cleaned words\n",
    "def clean(a):\n",
    "    x = []\n",
    "    for j in a:\n",
    "        if '?' in j:\n",
    "            j = ''.join(j.split('?'))\n",
    "        x.append(j)\n",
    "    return x"
   ]
  },
  {
   "cell_type": "code",
   "execution_count": 12,
   "metadata": {},
   "outputs": [
    {
     "name": "stdout",
     "output_type": "stream",
     "text": [
      "['can', 'u', 'tell', 'me', 'the', 'details?']\n"
     ]
    }
   ],
   "source": [
    "word = df['raw'][30].split()\n",
    "print(word)"
   ]
  },
  {
   "cell_type": "code",
   "execution_count": 13,
   "metadata": {},
   "outputs": [
    {
     "name": "stdout",
     "output_type": "stream",
     "text": [
      "['can', 'u', 'tell', 'me', 'the', 'details']\n"
     ]
    }
   ],
   "source": [
    "# examlpe to check the work of clean function\n",
    "print(clean(word))"
   ]
  },
  {
   "cell_type": "code",
   "execution_count": 14,
   "metadata": {},
   "outputs": [],
   "source": [
    "# to find out the matching words in sentences of raw data and dummy data \n",
    "# And storing the final list of words in remark list\n",
    "for j in range(len(df.index)):\n",
    "    words = clean(df['raw'][j].split())\n",
    "    word_set = set(words)\n",
    "    result = ','.join(list(dummy_words.intersection(word_set)))\n",
    "    if (len(result) == 0):\n",
    "        remark.append('NO MATCHING WORDS')\n",
    "    else:\n",
    "        remark.append(result)"
   ]
  },
  {
   "cell_type": "code",
   "execution_count": 15,
   "metadata": {},
   "outputs": [],
   "source": [
    "# adding a new column to existing dataframe to store common words\n",
    "# it writes 'Nothing' if no common words is present\n",
    "df['Same_words'] = remark"
   ]
  },
  {
   "cell_type": "code",
   "execution_count": 16,
   "metadata": {},
   "outputs": [
    {
     "data": {
      "text/html": [
       "<div>\n",
       "<style>\n",
       "    .dataframe thead tr:only-child th {\n",
       "        text-align: right;\n",
       "    }\n",
       "\n",
       "    .dataframe thead th {\n",
       "        text-align: left;\n",
       "    }\n",
       "\n",
       "    .dataframe tbody tr th {\n",
       "        vertical-align: top;\n",
       "    }\n",
       "</style>\n",
       "<table border=\"1\" class=\"dataframe\">\n",
       "  <thead>\n",
       "    <tr style=\"text-align: right;\">\n",
       "      <th></th>\n",
       "      <th>Date</th>\n",
       "      <th>to</th>\n",
       "      <th>raw</th>\n",
       "      <th>Same_words</th>\n",
       "    </tr>\n",
       "  </thead>\n",
       "  <tbody>\n",
       "    <tr>\n",
       "      <th>0</th>\n",
       "      <td>30/09/17</td>\n",
       "      <td>shubhi.prakash03@gmail.com</td>\n",
       "      <td>will be doing it by tomorrow</td>\n",
       "      <td>NO MATCHING WORDS</td>\n",
       "    </tr>\n",
       "    <tr>\n",
       "      <th>1</th>\n",
       "      <td>30/09/17</td>\n",
       "      <td>exampreparationonline@gmail.com</td>\n",
       "      <td>will be doing it by tomorrow</td>\n",
       "      <td>NO MATCHING WORDS</td>\n",
       "    </tr>\n",
       "    <tr>\n",
       "      <th>2</th>\n",
       "      <td>30/09/17</td>\n",
       "      <td>exampreparationonline@gmail.com</td>\n",
       "      <td>will be doing it by tomorrow</td>\n",
       "      <td>NO MATCHING WORDS</td>\n",
       "    </tr>\n",
       "    <tr>\n",
       "      <th>3</th>\n",
       "      <td>30/09/17</td>\n",
       "      <td>shubhi.prakash03@gmail.com</td>\n",
       "      <td>will be doing it by tomorrow</td>\n",
       "      <td>NO MATCHING WORDS</td>\n",
       "    </tr>\n",
       "    <tr>\n",
       "      <th>4</th>\n",
       "      <td>30/09/17</td>\n",
       "      <td>shubhi.prakash03@gmail.com</td>\n",
       "      <td>will be doing it by tomorrow</td>\n",
       "      <td>NO MATCHING WORDS</td>\n",
       "    </tr>\n",
       "    <tr>\n",
       "      <th>5</th>\n",
       "      <td>30/09/17</td>\n",
       "      <td>exampreparationonline@gmail.com</td>\n",
       "      <td>try to submit it with details</td>\n",
       "      <td>NO MATCHING WORDS</td>\n",
       "    </tr>\n",
       "    <tr>\n",
       "      <th>6</th>\n",
       "      <td>30/09/17</td>\n",
       "      <td>shubhi.prakash03@gmail.com</td>\n",
       "      <td>try to submit it with details</td>\n",
       "      <td>NO MATCHING WORDS</td>\n",
       "    </tr>\n",
       "    <tr>\n",
       "      <th>7</th>\n",
       "      <td>30/09/17</td>\n",
       "      <td>nidhisaini05@gmail.com</td>\n",
       "      <td>try to submit it with details</td>\n",
       "      <td>NO MATCHING WORDS</td>\n",
       "    </tr>\n",
       "    <tr>\n",
       "      <th>8</th>\n",
       "      <td>30/09/17</td>\n",
       "      <td>chowdhuryshaif@rediffmail.com</td>\n",
       "      <td>try to submit it with details</td>\n",
       "      <td>NO MATCHING WORDS</td>\n",
       "    </tr>\n",
       "    <tr>\n",
       "      <th>9</th>\n",
       "      <td>30/09/17</td>\n",
       "      <td>chowdhuryshaif@rediffmail.com</td>\n",
       "      <td>try to submit it with details</td>\n",
       "      <td>NO MATCHING WORDS</td>\n",
       "    </tr>\n",
       "    <tr>\n",
       "      <th>10</th>\n",
       "      <td>30/09/17</td>\n",
       "      <td>chowdhuryshaif@rediffmail.com</td>\n",
       "      <td>try to submit it with details</td>\n",
       "      <td>NO MATCHING WORDS</td>\n",
       "    </tr>\n",
       "    <tr>\n",
       "      <th>11</th>\n",
       "      <td>30/09/17</td>\n",
       "      <td>chowdhuryshaif@rediffmail.com</td>\n",
       "      <td>try to submit it with details</td>\n",
       "      <td>NO MATCHING WORDS</td>\n",
       "    </tr>\n",
       "    <tr>\n",
       "      <th>12</th>\n",
       "      <td>30/09/17</td>\n",
       "      <td>chowdhuryshaif@rediffmail.com</td>\n",
       "      <td>can u tell me the details?</td>\n",
       "      <td>me,tell</td>\n",
       "    </tr>\n",
       "    <tr>\n",
       "      <th>13</th>\n",
       "      <td>30/09/17</td>\n",
       "      <td>chowdhuryshaif@rediffmail.com</td>\n",
       "      <td>can u tell me the details?</td>\n",
       "      <td>me,tell</td>\n",
       "    </tr>\n",
       "    <tr>\n",
       "      <th>14</th>\n",
       "      <td>30/09/17</td>\n",
       "      <td>chowdhuryshaif@rediffmail.com</td>\n",
       "      <td>can u tell me the details?</td>\n",
       "      <td>me,tell</td>\n",
       "    </tr>\n",
       "    <tr>\n",
       "      <th>15</th>\n",
       "      <td>01/10/17</td>\n",
       "      <td>nidhisaini05@gmail.com</td>\n",
       "      <td>can u tell me the details?</td>\n",
       "      <td>me,tell</td>\n",
       "    </tr>\n",
       "    <tr>\n",
       "      <th>16</th>\n",
       "      <td>01/10/17</td>\n",
       "      <td>nidhisaini05@gmail.com</td>\n",
       "      <td>can u tell me the details?</td>\n",
       "      <td>me,tell</td>\n",
       "    </tr>\n",
       "    <tr>\n",
       "      <th>17</th>\n",
       "      <td>01/10/17</td>\n",
       "      <td>abhishekguragol@gmail.com</td>\n",
       "      <td>can u tell me the details?</td>\n",
       "      <td>me,tell</td>\n",
       "    </tr>\n",
       "    <tr>\n",
       "      <th>18</th>\n",
       "      <td>01/10/17</td>\n",
       "      <td>exampreparationonline@gmail.com</td>\n",
       "      <td>can u tell me the details?</td>\n",
       "      <td>me,tell</td>\n",
       "    </tr>\n",
       "    <tr>\n",
       "      <th>19</th>\n",
       "      <td>01/10/17</td>\n",
       "      <td>exampreparationonline@gmail.com</td>\n",
       "      <td>can u tell me the details?</td>\n",
       "      <td>me,tell</td>\n",
       "    </tr>\n",
       "    <tr>\n",
       "      <th>20</th>\n",
       "      <td>01/10/17</td>\n",
       "      <td>exampreparationonline@gmail.com</td>\n",
       "      <td>can u tell me the details?</td>\n",
       "      <td>me,tell</td>\n",
       "    </tr>\n",
       "    <tr>\n",
       "      <th>21</th>\n",
       "      <td>01/10/17</td>\n",
       "      <td>sonuyannam@gmail.com</td>\n",
       "      <td>can u tell me the details?</td>\n",
       "      <td>me,tell</td>\n",
       "    </tr>\n",
       "    <tr>\n",
       "      <th>22</th>\n",
       "      <td>02/10/17</td>\n",
       "      <td>exampreparationonline@gmail.com</td>\n",
       "      <td>can u tell me the details?</td>\n",
       "      <td>me,tell</td>\n",
       "    </tr>\n",
       "    <tr>\n",
       "      <th>23</th>\n",
       "      <td>02/10/17</td>\n",
       "      <td>chowdhuryshaif@rediffmail.com</td>\n",
       "      <td>can u tell me the details?</td>\n",
       "      <td>me,tell</td>\n",
       "    </tr>\n",
       "    <tr>\n",
       "      <th>24</th>\n",
       "      <td>02/10/17</td>\n",
       "      <td>chowdhuryshaif@rediffmail.com</td>\n",
       "      <td>can u tell me the details?</td>\n",
       "      <td>me,tell</td>\n",
       "    </tr>\n",
       "    <tr>\n",
       "      <th>25</th>\n",
       "      <td>02/10/17</td>\n",
       "      <td>chowdhuryshaif@rediffmail.com</td>\n",
       "      <td>can u tell me the details?</td>\n",
       "      <td>me,tell</td>\n",
       "    </tr>\n",
       "    <tr>\n",
       "      <th>26</th>\n",
       "      <td>02/10/17</td>\n",
       "      <td>chowdhuryshaif@rediffmail.com</td>\n",
       "      <td>can u tell me the details?</td>\n",
       "      <td>me,tell</td>\n",
       "    </tr>\n",
       "    <tr>\n",
       "      <th>27</th>\n",
       "      <td>02/10/17</td>\n",
       "      <td>chowdhuryshaif@rediffmail.com</td>\n",
       "      <td>can u tell me the details?</td>\n",
       "      <td>me,tell</td>\n",
       "    </tr>\n",
       "    <tr>\n",
       "      <th>28</th>\n",
       "      <td>02/10/17</td>\n",
       "      <td>chowdhuryshaif@rediffmail.com</td>\n",
       "      <td>can u tell me the details?</td>\n",
       "      <td>me,tell</td>\n",
       "    </tr>\n",
       "    <tr>\n",
       "      <th>29</th>\n",
       "      <td>02/10/17</td>\n",
       "      <td>chowdhuryshaif@rediffmail.com</td>\n",
       "      <td>can u tell me the details?</td>\n",
       "      <td>me,tell</td>\n",
       "    </tr>\n",
       "    <tr>\n",
       "      <th>30</th>\n",
       "      <td>02/10/17</td>\n",
       "      <td>chowdhuryshaif@rediffmail.com</td>\n",
       "      <td>can u tell me the details?</td>\n",
       "      <td>me,tell</td>\n",
       "    </tr>\n",
       "    <tr>\n",
       "      <th>31</th>\n",
       "      <td>02/10/17</td>\n",
       "      <td>chowdhuryshaif@rediffmail.com</td>\n",
       "      <td>can u tell me the details?</td>\n",
       "      <td>me,tell</td>\n",
       "    </tr>\n",
       "    <tr>\n",
       "      <th>32</th>\n",
       "      <td>02/10/17</td>\n",
       "      <td>nidhisaini05@gmail.com</td>\n",
       "      <td>can u tell me the details?</td>\n",
       "      <td>me,tell</td>\n",
       "    </tr>\n",
       "    <tr>\n",
       "      <th>33</th>\n",
       "      <td>02/10/17</td>\n",
       "      <td>exampreparationonline@gmail.com</td>\n",
       "      <td>when is the deadline?</td>\n",
       "      <td>deadline</td>\n",
       "    </tr>\n",
       "    <tr>\n",
       "      <th>34</th>\n",
       "      <td>02/10/17</td>\n",
       "      <td>chowdhuryshaif@rediffmail.com</td>\n",
       "      <td>when is the deadline?</td>\n",
       "      <td>deadline</td>\n",
       "    </tr>\n",
       "    <tr>\n",
       "      <th>35</th>\n",
       "      <td>03/10/17</td>\n",
       "      <td>exampreparationonline@gmail.com</td>\n",
       "      <td>when is the deadline?</td>\n",
       "      <td>deadline</td>\n",
       "    </tr>\n",
       "    <tr>\n",
       "      <th>36</th>\n",
       "      <td>03/10/17</td>\n",
       "      <td>sachinsn231@gmail.com</td>\n",
       "      <td>when is the deadline?</td>\n",
       "      <td>deadline</td>\n",
       "    </tr>\n",
       "    <tr>\n",
       "      <th>37</th>\n",
       "      <td>03/10/17</td>\n",
       "      <td>exampreparationonline@gmail.com</td>\n",
       "      <td>when is the deadline?</td>\n",
       "      <td>deadline</td>\n",
       "    </tr>\n",
       "    <tr>\n",
       "      <th>38</th>\n",
       "      <td>03/10/17</td>\n",
       "      <td>sachinsn231@gmail.com</td>\n",
       "      <td>when is the deadline?</td>\n",
       "      <td>deadline</td>\n",
       "    </tr>\n",
       "    <tr>\n",
       "      <th>39</th>\n",
       "      <td>03/10/17</td>\n",
       "      <td>sachinsn231@gmail.com</td>\n",
       "      <td>when is the deadline?</td>\n",
       "      <td>deadline</td>\n",
       "    </tr>\n",
       "    <tr>\n",
       "      <th>40</th>\n",
       "      <td>03/10/17</td>\n",
       "      <td>sachinsn231@gmail.com</td>\n",
       "      <td>when is the deadline?</td>\n",
       "      <td>deadline</td>\n",
       "    </tr>\n",
       "    <tr>\n",
       "      <th>41</th>\n",
       "      <td>03/10/17</td>\n",
       "      <td>limithakeerthi@gmail.com</td>\n",
       "      <td>when is the deadline?</td>\n",
       "      <td>deadline</td>\n",
       "    </tr>\n",
       "    <tr>\n",
       "      <th>42</th>\n",
       "      <td>03/10/17</td>\n",
       "      <td>ramthakkar07@gmail.com</td>\n",
       "      <td>when is the deadline?</td>\n",
       "      <td>deadline</td>\n",
       "    </tr>\n",
       "    <tr>\n",
       "      <th>43</th>\n",
       "      <td>03/10/17</td>\n",
       "      <td>pavithramurugan22@gmail.com</td>\n",
       "      <td>when is the deadline?</td>\n",
       "      <td>deadline</td>\n",
       "    </tr>\n",
       "    <tr>\n",
       "      <th>44</th>\n",
       "      <td>04/10/17</td>\n",
       "      <td>saha.swapankumar1@gmail.com</td>\n",
       "      <td>when is the deadline?</td>\n",
       "      <td>deadline</td>\n",
       "    </tr>\n",
       "  </tbody>\n",
       "</table>\n",
       "</div>"
      ],
      "text/plain": [
       "        Date                              to                             raw  \\\n",
       "0   30/09/17       shubhi.prakash03@gmail.com   will be doing it by tomorrow   \n",
       "1   30/09/17  exampreparationonline@gmail.com   will be doing it by tomorrow   \n",
       "2   30/09/17  exampreparationonline@gmail.com   will be doing it by tomorrow   \n",
       "3   30/09/17       shubhi.prakash03@gmail.com   will be doing it by tomorrow   \n",
       "4   30/09/17       shubhi.prakash03@gmail.com   will be doing it by tomorrow   \n",
       "5   30/09/17  exampreparationonline@gmail.com  try to submit it with details   \n",
       "6   30/09/17       shubhi.prakash03@gmail.com  try to submit it with details   \n",
       "7   30/09/17           nidhisaini05@gmail.com  try to submit it with details   \n",
       "8   30/09/17    chowdhuryshaif@rediffmail.com  try to submit it with details   \n",
       "9   30/09/17    chowdhuryshaif@rediffmail.com  try to submit it with details   \n",
       "10  30/09/17    chowdhuryshaif@rediffmail.com  try to submit it with details   \n",
       "11  30/09/17    chowdhuryshaif@rediffmail.com  try to submit it with details   \n",
       "12  30/09/17    chowdhuryshaif@rediffmail.com     can u tell me the details?   \n",
       "13  30/09/17    chowdhuryshaif@rediffmail.com     can u tell me the details?   \n",
       "14  30/09/17    chowdhuryshaif@rediffmail.com     can u tell me the details?   \n",
       "15  01/10/17           nidhisaini05@gmail.com     can u tell me the details?   \n",
       "16  01/10/17           nidhisaini05@gmail.com     can u tell me the details?   \n",
       "17  01/10/17        abhishekguragol@gmail.com     can u tell me the details?   \n",
       "18  01/10/17  exampreparationonline@gmail.com     can u tell me the details?   \n",
       "19  01/10/17  exampreparationonline@gmail.com     can u tell me the details?   \n",
       "20  01/10/17  exampreparationonline@gmail.com     can u tell me the details?   \n",
       "21  01/10/17             sonuyannam@gmail.com     can u tell me the details?   \n",
       "22  02/10/17  exampreparationonline@gmail.com     can u tell me the details?   \n",
       "23  02/10/17    chowdhuryshaif@rediffmail.com     can u tell me the details?   \n",
       "24  02/10/17    chowdhuryshaif@rediffmail.com     can u tell me the details?   \n",
       "25  02/10/17    chowdhuryshaif@rediffmail.com     can u tell me the details?   \n",
       "26  02/10/17    chowdhuryshaif@rediffmail.com     can u tell me the details?   \n",
       "27  02/10/17    chowdhuryshaif@rediffmail.com     can u tell me the details?   \n",
       "28  02/10/17    chowdhuryshaif@rediffmail.com     can u tell me the details?   \n",
       "29  02/10/17    chowdhuryshaif@rediffmail.com     can u tell me the details?   \n",
       "30  02/10/17    chowdhuryshaif@rediffmail.com     can u tell me the details?   \n",
       "31  02/10/17    chowdhuryshaif@rediffmail.com     can u tell me the details?   \n",
       "32  02/10/17           nidhisaini05@gmail.com     can u tell me the details?   \n",
       "33  02/10/17  exampreparationonline@gmail.com          when is the deadline?   \n",
       "34  02/10/17    chowdhuryshaif@rediffmail.com          when is the deadline?   \n",
       "35  03/10/17  exampreparationonline@gmail.com          when is the deadline?   \n",
       "36  03/10/17            sachinsn231@gmail.com          when is the deadline?   \n",
       "37  03/10/17  exampreparationonline@gmail.com          when is the deadline?   \n",
       "38  03/10/17            sachinsn231@gmail.com          when is the deadline?   \n",
       "39  03/10/17            sachinsn231@gmail.com          when is the deadline?   \n",
       "40  03/10/17            sachinsn231@gmail.com          when is the deadline?   \n",
       "41  03/10/17         limithakeerthi@gmail.com          when is the deadline?   \n",
       "42  03/10/17           ramthakkar07@gmail.com          when is the deadline?   \n",
       "43  03/10/17      pavithramurugan22@gmail.com          when is the deadline?   \n",
       "44  04/10/17      saha.swapankumar1@gmail.com          when is the deadline?   \n",
       "\n",
       "           Same_words  \n",
       "0   NO MATCHING WORDS  \n",
       "1   NO MATCHING WORDS  \n",
       "2   NO MATCHING WORDS  \n",
       "3   NO MATCHING WORDS  \n",
       "4   NO MATCHING WORDS  \n",
       "5   NO MATCHING WORDS  \n",
       "6   NO MATCHING WORDS  \n",
       "7   NO MATCHING WORDS  \n",
       "8   NO MATCHING WORDS  \n",
       "9   NO MATCHING WORDS  \n",
       "10  NO MATCHING WORDS  \n",
       "11  NO MATCHING WORDS  \n",
       "12            me,tell  \n",
       "13            me,tell  \n",
       "14            me,tell  \n",
       "15            me,tell  \n",
       "16            me,tell  \n",
       "17            me,tell  \n",
       "18            me,tell  \n",
       "19            me,tell  \n",
       "20            me,tell  \n",
       "21            me,tell  \n",
       "22            me,tell  \n",
       "23            me,tell  \n",
       "24            me,tell  \n",
       "25            me,tell  \n",
       "26            me,tell  \n",
       "27            me,tell  \n",
       "28            me,tell  \n",
       "29            me,tell  \n",
       "30            me,tell  \n",
       "31            me,tell  \n",
       "32            me,tell  \n",
       "33           deadline  \n",
       "34           deadline  \n",
       "35           deadline  \n",
       "36           deadline  \n",
       "37           deadline  \n",
       "38           deadline  \n",
       "39           deadline  \n",
       "40           deadline  \n",
       "41           deadline  \n",
       "42           deadline  \n",
       "43           deadline  \n",
       "44           deadline  "
      ]
     },
     "execution_count": 16,
     "metadata": {},
     "output_type": "execute_result"
    }
   ],
   "source": [
    "df"
   ]
  },
  {
   "cell_type": "markdown",
   "metadata": {},
   "source": [
    "### Time delta in day"
   ]
  },
  {
   "cell_type": "code",
   "execution_count": 17,
   "metadata": {},
   "outputs": [],
   "source": [
    "df['Date'] = pd.to_datetime(df['Date'], dayfirst=True)"
   ]
  },
  {
   "cell_type": "code",
   "execution_count": 18,
   "metadata": {},
   "outputs": [
    {
     "data": {
      "text/plain": [
       "0   2017-09-30\n",
       "1   2017-09-30\n",
       "2   2017-09-30\n",
       "3   2017-09-30\n",
       "4   2017-09-30\n",
       "Name: Date, dtype: datetime64[ns]"
      ]
     },
     "execution_count": 18,
     "metadata": {},
     "output_type": "execute_result"
    }
   ],
   "source": [
    "df['Date'].head()"
   ]
  },
  {
   "cell_type": "code",
   "execution_count": 19,
   "metadata": {
    "collapsed": true
   },
   "outputs": [],
   "source": [
    "# Here user can give their dates of their own\n",
    "user_date = '2017-12-30'"
   ]
  },
  {
   "cell_type": "code",
   "execution_count": 20,
   "metadata": {},
   "outputs": [],
   "source": [
    "# Stores the differenc in days between user provided sate and the last date\n",
    "diff = df.iloc[len(df.index)-1]['Date'] - pd.to_datetime(user_date)"
   ]
  },
  {
   "cell_type": "code",
   "execution_count": 21,
   "metadata": {},
   "outputs": [
    {
     "name": "stdout",
     "output_type": "stream",
     "text": [
      "87 days 00:00:00\n"
     ]
    }
   ],
   "source": [
    "print(abs(diff))"
   ]
  },
  {
   "cell_type": "code",
   "execution_count": null,
   "metadata": {
    "collapsed": true
   },
   "outputs": [],
   "source": []
  }
 ],
 "metadata": {
  "kernelspec": {
   "display_name": "Python 3",
   "language": "python",
   "name": "python3"
  },
  "language_info": {
   "codemirror_mode": {
    "name": "ipython",
    "version": 3
   },
   "file_extension": ".py",
   "mimetype": "text/x-python",
   "name": "python",
   "nbconvert_exporter": "python",
   "pygments_lexer": "ipython3",
   "version": "3.6.3"
  }
 },
 "nbformat": 4,
 "nbformat_minor": 2
}
